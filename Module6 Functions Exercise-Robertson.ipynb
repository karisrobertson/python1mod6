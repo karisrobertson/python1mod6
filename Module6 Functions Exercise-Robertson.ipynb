{
 "cells": [
  {
   "cell_type": "markdown",
   "metadata": {},
   "source": [
    "1. Round 4.5667 to the nearest hundreth using a build-in function, round()."
   ]
  },
  {
   "cell_type": "code",
   "execution_count": 1,
   "metadata": {},
   "outputs": [
    {
     "data": {
      "text/plain": [
       "4.57"
      ]
     },
     "execution_count": 1,
     "metadata": {},
     "output_type": "execute_result"
    }
   ],
   "source": [
    "round(4.5667, 2)"
   ]
  },
  {
   "cell_type": "markdown",
   "metadata": {},
   "source": [
    "2. Convert \"657\" to an integer data type"
   ]
  },
  {
   "cell_type": "code",
   "execution_count": 20,
   "metadata": {},
   "outputs": [
    {
     "data": {
      "text/plain": [
       "657"
      ]
     },
     "execution_count": 20,
     "metadata": {},
     "output_type": "execute_result"
    }
   ],
   "source": [
    "int(\"657\")"
   ]
  },
  {
   "cell_type": "markdown",
   "metadata": {},
   "source": [
    "3.\n",
    "Write a program to get two numbers from a user. Then, create a secret code where a code consists of 6 numbers and each number is randomly generated number between two numbers from a user. "
   ]
  },
  {
   "cell_type": "code",
   "execution_count": 16,
   "metadata": {},
   "outputs": [
    {
     "name": "stdout",
     "output_type": "stream",
     "text": [
      "['prompt user for numb1']10\n",
      "['prompt user for numb2']50\n",
      "50\n",
      "12\n",
      "35\n",
      "26\n",
      "25\n",
      "21\n"
     ]
    }
   ],
   "source": [
    "#import random library\n",
    "import random as rand\n",
    "\n",
    "\n",
    "#get two numbers from user and save them as variables to use later\n",
    "\n",
    "Numb1= int(input([\"prompt user for numb1\"]))\n",
    "Numb2= int(input([\"prompt user for numb2\"]))\n",
    "\n",
    "\n",
    "#code consist of 6 numbers and each number is randomly generated \n",
    "#print(rand.randint(Numb1, Numb2))\n",
    "#print(rand.randint(Numb1, Numb2))\n",
    "#print(rand.randint(Numb1, Numb2))\n",
    "#print(rand.randint(Numb1, Numb2))\n",
    "#print(rand.randint(Numb1, Numb2))\n",
    "#print(rand.randint(Numb1, Numb2))\n",
    "\n",
    "\n",
    "#SAVE THE ABOVE CODE AS A FUNCTION. \n",
    "\n",
    "#DEFINE THE FUNCTION\n",
    "def my_func() :\n",
    "    x = rand.randint(Numb1, Numb2)\n",
    "    retval= x    ##retrieve the value of the random number and save it as variable X\n",
    "    return retval  ##\"RETURN OR SEND the results of the retrieved value OF X  back to us/the caller \n",
    "\n",
    "\n",
    "#CALL THE FUNCTION OR YOU CAN GO STRAIGHT TO PRINT \n",
    "my_func()\n",
    "\n",
    "\n",
    "\n",
    "#PRINT THE FUNCTION 6 Times\n",
    "\n",
    "print(my_func())  ##PRINT the returned value that was retrieved from X, the randomly generated number (saved as x)\n",
    "print(my_func())\n",
    "print(my_func()) \n",
    "print(my_func())\n",
    "print(my_func())\n",
    "print(my_func())\n",
    "\n",
    "\n"
   ]
  },
  {
   "cell_type": "markdown",
   "metadata": {},
   "source": [
    "4.\n",
    "Write a program to center align below text where number of characters per line is 40:\n",
    "\n",
    "    Hickory, dickory, dock,\n",
    "    The mouse ran up the clock.\n",
    "    The clock struck one,\n",
    "    The mouse ran down,\n",
    "    Hickory, dickory, dock\n",
    "\n",
    "<b>Do not use string's center method! </b>"
   ]
  },
  {
   "cell_type": "code",
   "execution_count": 13,
   "metadata": {},
   "outputs": [
    {
     "name": "stdout",
     "output_type": "stream",
     "text": [
      "Hickory, dickory, dock,\n",
      "The mouse ran up the clock.\n",
      "The clock struck one,\n",
      "The mouse ran down,\n",
      "Hickory, dickory, dock\n"
     ]
    }
   ],
   "source": [
    "line1 = \"Hickory, dickory, dock,\"\n",
    "line2 = \"The mouse ran up the clock.\"\n",
    "line3 = \"The clock struck one,\"\n",
    "line4 = \"The mouse ran down,\"\n",
    "line5 = \"Hickory, dickory, dock\"\n",
    "\n",
    "#Centeralign\n",
    "\n",
    "#Write out the string seperated by a new line + save as a variable\n",
    "txt=\"Hickory, dickory, dock,\\nThe mouse ran up the clock.\\nThe clock struck one,\\nThe mouse ran down,\\nHickory, dickory, dock\"\n",
    "\n",
    "#center align string with 40 characters per line and save as a new variable\n",
    "x=txt.center(40)\n",
    "\n",
    "#save as a function\n",
    "def my_func(txt):\n",
    "    x=txt.center(40)\n",
    "    retval=x\n",
    "    return retval\n",
    "\n",
    "\n",
    "\n",
    "print(my_func(txt))\n",
    "\n",
    "\n"
   ]
  },
  {
   "cell_type": "markdown",
   "metadata": {},
   "source": [
    "5. Write a function to calculate the miles per gallon.\n",
    "Get a miles driven and gallons used from a user and call your function to calculate the miles per gallon. "
   ]
  },
  {
   "cell_type": "code",
   "execution_count": 28,
   "metadata": {},
   "outputs": [
    {
     "name": "stdout",
     "output_type": "stream",
     "text": [
      "Input Miles Driven: 100\n",
      "Input Gallons used: 10\n"
     ]
    },
    {
     "data": {
      "text/plain": [
       "10.0"
      ]
     },
     "execution_count": 28,
     "metadata": {},
     "output_type": "execute_result"
    }
   ],
   "source": [
    "#Get miles driven and Gallons used from user\n",
    "\n",
    "Miles= int(input(\"Input Miles Driven: \" ))\n",
    "Gallons= int(input(\"Input Gallons used: \"))\n",
    "\n",
    "def my_func(Miles,Gallons):\n",
    "    x=(Miles/Gallons)\n",
    "    retval=x\n",
    "    return retval\n",
    "\n",
    "\n",
    "my_func(Miles,Gallons)\n",
    "   \n",
    "\n"
   ]
  },
  {
   "cell_type": "code",
   "execution_count": null,
   "metadata": {},
   "outputs": [],
   "source": []
  }
 ],
 "metadata": {
  "kernelspec": {
   "display_name": "Python 3 (ipykernel)",
   "language": "python",
   "name": "python3"
  },
  "language_info": {
   "codemirror_mode": {
    "name": "ipython",
    "version": 3
   },
   "file_extension": ".py",
   "mimetype": "text/x-python",
   "name": "python",
   "nbconvert_exporter": "python",
   "pygments_lexer": "ipython3",
   "version": "3.11.5"
  }
 },
 "nbformat": 4,
 "nbformat_minor": 4
}
